{
 "cells": [
  {
   "cell_type": "code",
   "execution_count": 1,
   "id": "71b266c7",
   "metadata": {},
   "outputs": [],
   "source": [
    "import requests\n",
    "import os"
   ]
  },
  {
   "cell_type": "code",
   "execution_count": 4,
   "id": "da4fc0f3",
   "metadata": {},
   "outputs": [],
   "source": [
    "folder_name='ebert_reviews'\n",
    "if not os.path.exists(folder_name):\n",
    "    os.makedirs(folder_name)\n",
    "    \n",
    "url='https://d17h27t6h515a5.cloudfront.net/topher/2017/September/59ad9900_1-the-wizard-of-oz-1939-film/1-the-wizard-of-oz-1939-film.txt'\n",
    "response=requests.get(url)"
   ]
  },
  {
   "cell_type": "code",
   "execution_count": 5,
   "id": "26041def",
   "metadata": {},
   "outputs": [
    {
     "data": {
      "text/plain": [
       "<Response [200]>"
      ]
     },
     "execution_count": 5,
     "metadata": {},
     "output_type": "execute_result"
    }
   ],
   "source": [
    "response"
   ]
  },
  {
   "cell_type": "code",
   "execution_count": 6,
   "id": "6741268e",
   "metadata": {},
   "outputs": [
    {
     "data": {
      "text/plain": [
       "b'The Wizard of Oz (1939)\\nhttp://www.rogerebert.com/reviews/great-movie-the-wizard-of-oz-1939\\nAs a child I simply did not notice whether a movie was in color or not. The movies themselves were such an overwhelming mystery that if they wanted to be in black and white, that was their business. It was not until I saw \"The Wizard of Oz\" for the first time that I consciously noticed B&W versus color, as Dorothy was blown out of Kansas and into Oz. What did I think? It made good sense to me.\\n\\nThe switch from black and white to color would have had a special resonance in 1939, when the movie was made. Almost all films were still being made in black and white, and the cumbersome new color cameras came with a \\xe2\\x80\\x9cTechnicolor consultant\\xe2\\x80\\x9d from the factory, who stood next to the cinematographer and officiously suggested higher light levels. Shooting in color might have been indicated because the film was MGM\\'s response to the huge success of Disney\\'s pioneering color animated feature, \"Snow White and the Seven Dwarfs\" (1937).\\n\\nIf \\xe2\\x80\\x9cWizard\\xe2\\x80\\x9d began in one way and continued in another, that was also the history of the production. Richard Thorpe, the original director, was fired after 12 days. George Cukor filled in for three days, long enough to tell Judy Garland to lose the wig and the makeup, and then Victor Fleming took over. When Fleming went to \\xe2\\x80\\x9cGone With the Wind,\\xe2\\x80\\x9d King Vidor did some of the Munchkin sequences, and the Kansas scenes.\\n\\nThere were cast changes, too; after Buddy Ebsen, as the Tin Man, had an allergic reaction to the silvery makeup, he was replaced by Jack Haley. Musical numbers were recorded and never used. Margaret Hamilton (the Wicked Witch of the West) was seriously burned when she went up in a puff of smoke. Even Toto was out of commission for two weeks after being stepped on by a crewmember.\\n\\nWe study all of these details, I think, because \\xe2\\x80\\x9cThe Wizard of Oz\\xe2\\x80\\x9d fills such a large space in our imagination. It somehow seems real and important in a way most movies don\\'t. Is that because we see it first when we\\xe2\\x80\\x99re young? Or simply because it is a wonderful movie? Or because it sounds some buried universal note, some archetype or deeply felt myth?\\n\\nI lean toward the third possibility, that the elements in \\xe2\\x80\\x9cThe Wizard of Oz\\xe2\\x80\\x9d powerfully fill a void that exists inside many children. For kids of a certain age, home is everything, the center of the world. But over the rainbow, dimly guessed at, is the wide earth, fascinating and terrifying. There is a deep fundamental fear that events might conspire to transport the child from the safety of home and strand him far away in a strange land. And what would he hope to find there? Why, new friends, to advise and protect him. And Toto, of course, because children have such a strong symbiotic relationship with their pets that they assume they would get lost together.\\n\\nThis deep universal appeal explains why so many different people from many backgrounds have a compartment of their memory reserved for \\xe2\\x80\\x9cThe Wizard of Oz.\\xe2\\x80\\x9d Salman Rushdie, growing up in Bombay, remembers that seeing the film at 10 \\xe2\\x80\\x9cmade a writer of me.\\xe2\\x80\\x9d Terry McMillan, as an African-American child in northern Michigan, \\xe2\\x80\\x9ccompletely identified when no one had time to listen to Dorothy.\\xe2\\x80\\x9d Rushdie wrote that the film\\'s \\xe2\\x80\\x9cdriving force is the inadequacy of adults, even of good adults, and how the weakness of grownups forces children to take control of their own destinies.\\xe2\\x80\\x9d McMillan learned about courage, about \\xe2\\x80\\x9cbeing afraid but doing whatever it was you set out to do anyway.\\xe2\\x80\\x9d\\n\\nThey\\'re touching on the key lesson of childhood, which is that someday the child will not be a child, that home will no longer exist, that adults will be no help because now the child is an adult and must face the challenges of life alone. But that you can ask friends to help you. And that even the Wizard of Oz is only human, and has problems of his own.\\n\\n\\xe2\\x80\\x9cThe Wizard of Oz\\xe2\\x80\\x9d has a wonderful surface of comedy and music, special effects and excitement, but we still watch it six decades later because its underlying story penetrates straight to the deepest insecurities of childhood, stirs them and then reassures them. As adults, we love it because it reminds us of a journey we have taken. That is why any adult in control of a child is sooner or later going to suggest a viewing of \\xe2\\x80\\x9cThe Wizard of Oz.\\xe2\\x80\\x9d\\n\\nJudy Garland had, I gather, an unhappy childhood (there are those stories about MGM quacks shooting her full of speed in the morning and tranquilizers at day\\'s end), but she was a luminous performer, already almost17 when she played young Dorothy. She was important to the movie because she projected vulnerability and a certain sadness in every tone of her voice. A brassy young child star (a young Ethel Merman, say) would have been fatal to the material because she would have approached it with too much bravado. Garland\\xe2\\x80\\x99s whole persona projected a tremulous uncertainty, a wistfulness. When she hoped that troubles would melt like lemon drops, you believed she had troubles.\\n\\nHer friends on the Yellow Brick Road (the Tin Man, the Scarecrow, the Cowardly Lion) were projections of every child\\'s secret fears. Are we real? Are we ugly and silly? Are we brave enough? In helping them, Dorothy was helping herself, just as an older child will overcome fears by acting brave before a younger one.\\n\\nThe actors (Jack Haley, Ray Bolger, Bert Lahr) had all come up through a tradition of vaudeville and revue comedy, and played the characters with a sublime unself-consciousness. Maybe it helped that none of them knew they were making a great movie. They seem relaxed and loose in many scenes, as if the roles were a lark. L. Frank Baum\\'s book had been filmed before (Oliver Hardy played the Tin Man in 1925), and this version, while ambitious, was overshadowed by the studio\\'s simultaneous preparation of \\xe2\\x80\\x9cGone With the Wind.\\xe2\\x80\\x9d Garland was already a star when she made \\xe2\\x80\\x9cWizard,\\xe2\\x80\\x9d but not a great star--that came in the 1940s, inspired by \\xe2\\x80\\x9cWizard.\\xe2\\x80\\x9d\\n\\nThe special effects are glorious in that old Hollywood way, in which you don\\'t even have to look closely to see where the set ends and the backdrop begins. Modern special effects show *exactly* how imaginary scenes might look; effects then showed how we *thought* about them. A bigger Yellow Brick Road would not have been a better one.\\n\\nThe movie\\'s storytelling device of a dream is just precisely obvious enough to appeal to younger viewers. Dorothy, faced with a crisis (the loss of Toto), meets the intriguing Professor Marvel (Frank Morgan) on the road. She is befriended by three farm hands (Bolger, Haley and Lahr). Soon comes the fearsome tornado. (What frightened me was that you could see individual things floating by--for months I dreamed circling around and around while seated at the little desk in my bedroom, looking at classmates being swept mutely past me.) Then, after the magical transition to color, Dorothy meets the same characters again, so we know it\\'s all a dream, but not really.\\n\\nThere are good and bad adult figures in Oz--the Wicked Witches of the East and West, the Good Witch Glinda. Dorothy would like help from her friends but needs to help them instead (\\xe2\\x80\\x9cIf I Only Had a Brain,\\xe2\\x80\\x9d or a heart, or nerve, they sing). Arriving at last at the Emerald City, they have another dreamlike experience; almost everyone they meet seems vaguely similar (because they\\xe2\\x80\\x99re all played by Morgan). The Wizard sends them on a mission to get the Wicked Witch\\'s broom, and it is not insignificant that the key to Dorothy\\xe2\\x80\\x99s return to Kansas is the pair of ruby slippers. Grownup shoes.\\n\\nThe ending has always seemed poignant to me. Dorothy is back in Kansas, but the color has drained from the film, and her magical friends are mundane once again. \\xe2\\x80\\x9cThe land of Oz wasn\\'t such a bad place to be stuck in,\\xe2\\x80\\x9d decided young Terry McMillan, discontented with her life in Michigan. \\xe2\\x80\\x9cIt beat the farm in Kansas.\\xe2\\x80\\x9d'"
      ]
     },
     "execution_count": 6,
     "metadata": {},
     "output_type": "execute_result"
    }
   ],
   "source": [
    "response.content"
   ]
  },
  {
   "cell_type": "code",
   "execution_count": 11,
   "id": "757021b2",
   "metadata": {},
   "outputs": [],
   "source": [
    "with open(os.path.join(folder_name, url.split('/')[-1]),\n",
    "                       mode='wb') as file:  # we use mode 'wb'> (write Binary) because the file is stored in bits\n",
    "    file.write(response.content) "
   ]
  },
  {
   "cell_type": "code",
   "execution_count": 12,
   "id": "a074fe0f",
   "metadata": {},
   "outputs": [
    {
     "data": {
      "text/plain": [
       "['1-the-wizard-of-oz-1939-film.txt']"
      ]
     },
     "execution_count": 12,
     "metadata": {},
     "output_type": "execute_result"
    }
   ],
   "source": [
    "os.listdir(folder_name)"
   ]
  },
  {
   "cell_type": "code",
   "execution_count": null,
   "id": "503ad913",
   "metadata": {},
   "outputs": [],
   "source": []
  }
 ],
 "metadata": {
  "kernelspec": {
   "display_name": "Python 3",
   "language": "python",
   "name": "python3"
  },
  "language_info": {
   "codemirror_mode": {
    "name": "ipython",
    "version": 3
   },
   "file_extension": ".py",
   "mimetype": "text/x-python",
   "name": "python",
   "nbconvert_exporter": "python",
   "pygments_lexer": "ipython3",
   "version": "3.8.8"
  }
 },
 "nbformat": 4,
 "nbformat_minor": 5
}
