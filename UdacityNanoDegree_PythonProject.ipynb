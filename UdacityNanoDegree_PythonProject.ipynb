{
 "cells": [
  {
   "cell_type": "markdown",
   "id": "92660aea",
   "metadata": {},
   "source": [
    "# Explore US Bikeshare Data"
   ]
  },
  {
   "cell_type": "markdown",
   "id": "db1e3a02",
   "metadata": {},
   "source": [
    "In this project, I used Python to explore data related to bike share systems for three major cities in the Unitied States - Chicago, New York City, and Washington.\n",
    "I wrote code to import the data and answering interesting questions about it by computing descriptive statistics.\n",
    "I also wrote a script that takes in raw input to create an interactive experience in the terminal to present these statistics."
   ]
  },
  {
   "cell_type": "markdown",
   "id": "edf9b812",
   "metadata": {},
   "source": [
    "### What Software I used? "
   ]
  },
  {
   "cell_type": "markdown",
   "id": "2754c5cf",
   "metadata": {},
   "source": [
    "To complete this project, the following software requirements apply:\n",
    "* You should have Python 3, Numpy, and pandas installed using Anaconda.\n",
    "* A text editor, like Sublime or Atom(which I used).\n",
    "* A terminal application (Terminal on Mac and Linux or Windows)"
   ]
  },
  {
   "cell_type": "markdown",
   "id": "e2a4c49f",
   "metadata": {},
   "source": [
    "<img src = 'divvy.jpg' alt='alt text' title='title'/>"
   ]
  },
  {
   "cell_type": "markdown",
   "id": "dc8e12db",
   "metadata": {},
   "source": [
    "## Bike Share Data overview"
   ]
  },
  {
   "cell_type": "markdown",
   "id": "5546ff7d",
   "metadata": {},
   "source": [
    "Over the past decade, bicycle-sharing systems have been growing in number and popularity in cities across the world. Bicycle-sharing systems allow users to rent bicycles on a very short-term basis for a price. This allows people to borrow a bike from point A and return it at point B, though they can also return it to the same location if they'd like to just go for a ride. Regardless, each bike can serve several users per day.\n",
    "\n",
    "Thanks to the rise in information technologies, it is easy for a user of the system to access a dock within the system to unlock or return bicycles. These technologies also provide a wealth of data that can be used to explore how these bike-sharing systems are used.\n",
    "\n",
    "In this project, I used data provided by motivate, a bike share system provider for many major cities in the United States, to uncover bike share usage patterns. I compared the system usage between three large cities: Chicago, New York City, and Washington, DC."
   ]
  },
  {
   "cell_type": "markdown",
   "id": "acda076c",
   "metadata": {},
   "source": [
    "### The Datasets"
   ]
  },
  {
   "cell_type": "markdown",
   "id": "9dc7cb9c",
   "metadata": {},
   "source": [
    "Randomly selected data for the first six months of 2017 are provided for all three cities. All three of the data files contain the same core six (6) columns:\n",
    "* Start Time (e.g., 2017-01-01 00:07:57)\n",
    "* End Time (e.g., 2017-01-01 00:20:53)\n",
    "* Trip Duration (in seconds - e.g., 776)\n",
    "* Start Station (e.g., Broadway & Barry Ave)\n",
    "* End Station (e.g., Sedgwick St & North Ave)\n",
    "* User Type (Subscriber or Customer)\n",
    "\n",
    "The Chicago and New York City files also have the following two columns:\n",
    "* Gender\n",
    "* Birth Year"
   ]
  },
  {
   "cell_type": "code",
   "execution_count": 79,
   "id": "206658e9",
   "metadata": {},
   "outputs": [],
   "source": [
    "import time\n",
    "import pandas as pd\n",
    "import numpy as np\n",
    "from datetime import datetime"
   ]
  },
  {
   "cell_type": "code",
   "execution_count": 80,
   "id": "0ef9e18a",
   "metadata": {},
   "outputs": [],
   "source": [
    "CITY_DATA={ 'chicago': 'chicago.csv',\n",
    "            'new york city': 'new_york_city.csv',\n",
    "            'washington': 'washington.csv' }"
   ]
  },
  {
   "cell_type": "code",
   "execution_count": 81,
   "id": "060a7f3d",
   "metadata": {},
   "outputs": [],
   "source": [
    "months=['january', 'february', 'march', 'april', 'may', 'june',\n",
    "      'july', 'august', 'september', 'october', 'november', 'december']\n",
    "days=['saturday', 'sunday', 'monday', 'tuesday', 'wednesday', 'thursday', 'friday']\n",
    "cities=['chicago', 'new york city', 'washington']"
   ]
  },
  {
   "cell_type": "code",
   "execution_count": 82,
   "id": "a7ab69f0",
   "metadata": {},
   "outputs": [],
   "source": [
    "month_dic={1:'January',\n",
    "           2:'February',\n",
    "           3:'March',\n",
    "           4:'April',\n",
    "           5:'May',\n",
    "           6:'June',\n",
    "           7:'July',\n",
    "           8:'August',\n",
    "           9:'September',\n",
    "           10:'October',\n",
    "           11:'November',\n",
    "           12:'December'}"
   ]
  },
  {
   "cell_type": "code",
   "execution_count": 83,
   "id": "bf59ac45",
   "metadata": {},
   "outputs": [],
   "source": [
    "def convert_hours(hrs):\n",
    "    '''\n",
    "    Function Usage: Convert the input hours to 12 hours based system\n",
    "    PARAMETER: the hours we want to convert\n",
    "    '''\n",
    "    s = str(hrs)\n",
    "    if hrs>12:\n",
    "        return str(hrs-12)+' pm'\n",
    "    elif hrs==12:\n",
    "        return s+' pm'\n",
    "    else:\n",
    "        return s+' am'"
   ]
  },
  {
   "cell_type": "code",
   "execution_count": 84,
   "id": "959c76ad",
   "metadata": {},
   "outputs": [],
   "source": [
    "def user_input(num):\n",
    "    '''\n",
    "    Function Usage : To get & validate user input\n",
    "    PARAMETER: num >> used for specifying which input we are using(e.g. city, day, month)\n",
    "    '''\n",
    "    input_dict={0: [cities, 'city'],\n",
    "                1: [days, 'day'],\n",
    "                2: [months, 'month']}\n",
    "    while True:\n",
    "        input_str = input(\"Please enter {} name: \".format(input_dict[num][1])).lower()\n",
    "        if input_str in input_dict[num][0] or input_str == 'all':\n",
    "            return input_str\n",
    "        else:\n",
    "            print(\"Invalid input please enter the {} name\".format(input_dict[num][1]))"
   ]
  },
  {
   "cell_type": "code",
   "execution_count": 85,
   "id": "9cf900bc",
   "metadata": {},
   "outputs": [],
   "source": [
    "def get_filters():\n",
    "    print('Hello! Let\\'s explore some US bikeshare data!')\n",
    "    input_city = user_input(0)\n",
    "    input_weekday = user_input(1)\n",
    "    input_month = user_input(2)\n",
    "    print('-'*40)\n",
    "\n",
    "    return input_city, input_month, input_weekday"
   ]
  },
  {
   "cell_type": "code",
   "execution_count": 86,
   "id": "1560304d",
   "metadata": {},
   "outputs": [],
   "source": [
    "def load_data(city, month, day):\n",
    "    data = pd.read_csv(CITY_DATA[city])\n",
    "    data['Start Time'] = pd.to_datetime(data['Start Time'])\n",
    "    data['month'] = data['Start Time'].dt.month\n",
    "    data['day_of_week'] = data['Start Time'].dt.day\n",
    "    #Checking whether the use want to display all (months, days) or specified ones\n",
    "    if month != 'all':\n",
    "        month = months.index(month) + 1\n",
    "        data = data[data['month'] ==  month]\n",
    "    #all months\n",
    "    else:\n",
    "        month = np.arange(0, 13)\n",
    "        data = data[data['month'].isin(month)]\n",
    "\n",
    "    if day != 'all':\n",
    "        day = days.index(day) + 1\n",
    "        data = data[data['day_of_week'] == day]\n",
    "    #all days\n",
    "    else:\n",
    "        day = np.arange(0, 8)\n",
    "        data=data[data['day_of_week'].isin(day)]\n",
    "\n",
    "    return data"
   ]
  },
  {
   "cell_type": "code",
   "execution_count": 87,
   "id": "4d899c50",
   "metadata": {},
   "outputs": [],
   "source": [
    "def time_stats(df):\n",
    "    \"\"\"\n",
    "    Function Usage: Displays statistics on the most frequent times of travel.\n",
    "    \"\"\"\n",
    "    print('\\nCalculating The Most Frequent Times of Travel...\\n')\n",
    "    start_time = time.time()\n",
    "    # display the most common month\n",
    "    print(\"the most common month is: \", month_dic[df.month.mode()[0]])\n",
    "    # display the most common day of week\n",
    "    print(\"the most common day of week is: \", df.day_of_week.mode()[0])\n",
    "    # display the most common start hour\n",
    "    df['Start Time'] = pd.to_datetime(df['Start Time'])\n",
    "    print(\"the most common start hour is: \", convert_hours(df['Start Time'].dt.hour.mode()[0]))\n",
    "    print(\"\\nThis took %s seconds.\" % (time.time() - start_time))\n",
    "    print('-'*40)"
   ]
  },
  {
   "cell_type": "code",
   "execution_count": 88,
   "id": "4d30734e",
   "metadata": {},
   "outputs": [],
   "source": [
    "def station_stats(df):\n",
    "    print('\\nCalculating The Most Popular Stations and Trip...\\n')\n",
    "    start_time = time.time()\n",
    "\n",
    "    # TO DO: display most commonly used start station\n",
    "    print(\"The most common start station is: \",df['Start Station'].mode()[0])\n",
    "    # TO DO: display most commonly used end station\n",
    "    print(\"The most common end station is: \",df['End Station'].mode()[0])\n",
    "    # TO DO: display most frequent combination of start station and end station trip\n",
    "    print(\"The most frequent start and end station is: \",\n",
    "        \" / \".join(df.groupby(['Start Station', 'End Station']).size().idxmax()))\n",
    "    print(\"\\nThis took %s seconds.\" % (time.time() - start_time))\n",
    "    print('-'*40)\n"
   ]
  },
  {
   "cell_type": "code",
   "execution_count": 89,
   "id": "06d8bbb0",
   "metadata": {},
   "outputs": [],
   "source": [
    "def trip_duration_stats(df):\n",
    "    \"\"\"Displays statistics on the total and average trip duration.\"\"\"\n",
    "    print('\\nCalculating Trip Duration...\\n')\n",
    "    start_time = time.time()\n",
    "    # TO DO: display total travel time\n",
    "    print(\"Total travel time is: \",df['Trip Duration'].sum())\n",
    "    # TO DO: display mean travel time\n",
    "    print(\"Average travel time is: \",df['Trip Duration'].mean())\n",
    "    print(\"\\nThis took %s seconds.\" % (time.time() - start_time))\n",
    "    print('-'*40)\n"
   ]
  },
  {
   "cell_type": "code",
   "execution_count": 90,
   "id": "e8fcde57",
   "metadata": {},
   "outputs": [
    {
     "ename": "SyntaxError",
     "evalue": "unexpected EOF while parsing (<ipython-input-90-b0f9f0884425>, line 19)",
     "output_type": "error",
     "traceback": [
      "\u001b[0;36m  File \u001b[0;32m\"<ipython-input-90-b0f9f0884425>\"\u001b[0;36m, line \u001b[0;32m19\u001b[0m\n\u001b[0;31m    \u001b[0m\n\u001b[0m    ^\u001b[0m\n\u001b[0;31mSyntaxError\u001b[0m\u001b[0;31m:\u001b[0m unexpected EOF while parsing\n"
     ]
    }
   ],
   "source": [
    "def user_stats(df):\n",
    "    \"\"\"Displays statistics on bikeshare users.\"\"\"\n",
    "    print('\\nCalculating User Stats...\\n')\n",
    "    start_time = time.time()\n",
    "    # TO DO: Display counts of user types\n",
    "    print(\"Counts of user types\", df['User Type'].value_counts())\n",
    "    # TO DO: Display counts of gender\n",
    "    print(\"\\n\")\n",
    "    if 'Gender' and 'Birth Year' in df:\n",
    "        print(\"Counts of user gender\", df['Gender'].value_counts())\n",
    "        print(\"\\n\")\n",
    "        # TO DO: Display earliest, most recent, and most common year of birth\n",
    "        print(\"Earliest year of birth\", df['Birth Year'].min())\n",
    "        print(\"Most recent year of birth\",df['Birth Year'].max())\n",
    "        print(\"Most common year of birth\",df['Birth Year'].mode())\n",
    "        print(\"\\nThis took %s seconds.\" % (time.time() - start_time))\n",
    "        print('-'*40)\n",
    "    else:\n",
    "        "
   ]
  },
  {
   "cell_type": "code",
   "execution_count": 91,
   "id": "946218b7",
   "metadata": {},
   "outputs": [],
   "source": [
    "def main():\n",
    "    cnt = 5\n",
    "    while True:\n",
    "        city, month, day = get_filters()\n",
    "        df = load_data(city, month, day)\n",
    "        time_stats(df)\n",
    "        station_stats(df)\n",
    "        trip_duration_stats(df)\n",
    "        user_stats(df)\n",
    "        \n",
    "        #While loop to check if the user wants to display raw data rows\n",
    "        while True:\n",
    "            answer = input(\"\\n Would you like to see a few rows of raw data? Enter yes or no. \\n\")\n",
    "            if answer.lower() == 'yes':\n",
    "                print(df[:cnt])\n",
    "                cnt+=5\n",
    "                #Condition to check if we have reached the end of the dataframe\n",
    "                if cnt > len(df):\n",
    "                    print(\"Sorry, there is no more data to view! \\n\")\n",
    "                    break\n",
    "            elif answer.lower() == 'no':\n",
    "                break\n",
    "            else:\n",
    "                print(\"Please enter a valid input (yes or no).\\n\")\n",
    "        #Condition to check if the user want to start over again \n",
    "        restart = input('\\nWould you like to restart? Enter yes or no.\\n')\n",
    "        if restart.lower() != 'yes':\n",
    "            break\n"
   ]
  },
  {
   "cell_type": "code",
   "execution_count": 92,
   "id": "64252970",
   "metadata": {},
   "outputs": [
    {
     "name": "stdout",
     "output_type": "stream",
     "text": [
      "Hello! Let's explore some US bikeshare data!\n",
      "Please enter city name: chicago\n",
      "Please enter day name: all\n",
      "Please enter month name: all\n",
      "----------------------------------------\n",
      "\n",
      "Calculating The Most Frequent Times of Travel...\n",
      "\n",
      "the most common month is:  June\n",
      "the most common day of week is:  3\n",
      "the most common start hour is:  5 pm\n",
      "\n",
      "This took 0.016361713409423828 seconds.\n",
      "----------------------------------------\n",
      "\n",
      "Calculating The Most Popular Stations and Trip...\n",
      "\n",
      "The most common start station is:  Streeter Dr & Grand Ave\n",
      "The most common end station is:  Streeter Dr & Grand Ave\n",
      "The most frequent start and end station is:  Lake Shore Dr & Monroe St / Streeter Dr & Grand Ave\n",
      "\n",
      "This took 0.022796630859375 seconds.\n",
      "----------------------------------------\n",
      "\n",
      "Calculating Trip Duration...\n",
      "\n",
      "Total travel time is:  51268592\n",
      "Average travel time is:  870.493615865254\n",
      "\n",
      "This took 0.0009129047393798828 seconds.\n",
      "----------------------------------------\n",
      "\n",
      "Calculating User Stats...\n",
      "\n",
      "Counts of user types Subscriber    49032\n",
      "Customer       9864\n",
      "Name: User Type, dtype: int64\n",
      "\n",
      "\n",
      "Counts of user gender Male      37474\n",
      "Female    11568\n",
      "Name: Gender, dtype: int64\n",
      "\n",
      "\n",
      "Earliest year of birth 1899.0\n",
      "Most recent year of birth 2016.0\n",
      "Most common year of birth 0    1989.0\n",
      "dtype: float64\n",
      "\n",
      "This took 0.012429952621459961 seconds.\n",
      "----------------------------------------\n",
      "\n",
      " Would you like to see a few rows of raw data? Enter yes or no. \n",
      "yes\n",
      "    Unnamed: 0          Start Time             End Time  Trip Duration  \\\n",
      "2         9031 2017-01-04 08:27:49  2017-01-04 08:34:45            416   \n",
      "3       304487 2017-03-06 13:49:38  2017-03-06 13:55:28            350   \n",
      "9       135470 2017-02-06 18:00:47  2017-02-06 18:09:00            493   \n",
      "16      718598 2017-05-03 13:20:38  2017-05-03 13:31:13            635   \n",
      "24      717248 2017-05-03 09:41:11  2017-05-03 09:49:10            479   \n",
      "\n",
      "                    Start Station                   End Station   User Type  \\\n",
      "2              May St & Taylor St           Wood St & Taylor St  Subscriber   \n",
      "3   Christiana Ave & Lawrence Ave  St. Louis Ave & Balmoral Ave  Subscriber   \n",
      "9    Stetson Ave & South Water St  Clinton St & Washington Blvd  Subscriber   \n",
      "16       Ada St & Washington Blvd            Daley Center Plaza  Subscriber   \n",
      "24      Wabash Ave & Roosevelt Rd     Halsted St & Roosevelt Rd  Subscriber   \n",
      "\n",
      "   Gender  Birth Year  month  day_of_week  \n",
      "2    Male      1981.0      1            4  \n",
      "3    Male      1986.0      3            6  \n",
      "9    Male      1979.0      2            6  \n",
      "16   Male      1967.0      5            3  \n",
      "24   Male      1992.0      5            3  \n",
      "\n",
      " Would you like to see a few rows of raw data? Enter yes or no. \n",
      "no\n",
      "\n",
      "Would you like to restart? Enter yes or no.\n",
      "no\n"
     ]
    }
   ],
   "source": [
    "if __name__ == \"__main__\":\n",
    "\tmain()"
   ]
  },
  {
   "cell_type": "code",
   "execution_count": null,
   "id": "3f384157",
   "metadata": {},
   "outputs": [],
   "source": []
  }
 ],
 "metadata": {
  "kernelspec": {
   "display_name": "Python 3",
   "language": "python",
   "name": "python3"
  },
  "language_info": {
   "codemirror_mode": {
    "name": "ipython",
    "version": 3
   },
   "file_extension": ".py",
   "mimetype": "text/x-python",
   "name": "python",
   "nbconvert_exporter": "python",
   "pygments_lexer": "ipython3",
   "version": "3.8.8"
  }
 },
 "nbformat": 4,
 "nbformat_minor": 5
}
